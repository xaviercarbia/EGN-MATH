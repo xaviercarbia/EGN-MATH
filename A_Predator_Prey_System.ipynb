{
  "nbformat": 4,
  "nbformat_minor": 0,
  "metadata": {
    "colab": {
      "name": "A Predator-Prey System",
      "provenance": [],
      "authorship_tag": "ABX9TyMzI9YoolhubPGD9+8Y9Ca9",
      "include_colab_link": true
    },
    "kernelspec": {
      "name": "python3",
      "display_name": "Python 3"
    },
    "language_info": {
      "name": "python"
    }
  },
  "cells": [
    {
      "cell_type": "markdown",
      "metadata": {
        "id": "view-in-github",
        "colab_type": "text"
      },
      "source": [
        "<a href=\"https://colab.research.google.com/github/xaviercarbia/EGN-MATH/blob/main/A_Predator_Prey_System.ipynb\" target=\"_parent\"><img src=\"https://colab.research.google.com/assets/colab-badge.svg\" alt=\"Open In Colab\"/></a>"
      ]
    },
    {
      "cell_type": "markdown",
      "source": [
        "A Predator-Prey System"
      ],
      "metadata": {
        "id": "tBdAcvZ-qOAR"
      }
    },
    {
      "cell_type": "markdown",
      "source": [
        "If no lynx are present, we will assume that the hares reproduce at a rate proportional to their population and are not affected by overcrowding. That is, the hare population will grow exponentially,"
      ],
      "metadata": {
        "id": "JQStYa1svCYC"
      }
    },
    {
      "cell_type": "markdown",
      "source": [
        "$\\frac{dH}{dt}=aH$"
      ],
      "metadata": {
        "id": "cFCd2m7LqbRY"
      }
    },
    {
      "cell_type": "markdown",
      "source": [
        "Since the lynx prey on the hares, we can argue that the rate at which the hares are consumed by the lynx is proportional to the rate at which the hares and lynx interact. Thus, the equation that predicts the rate of change of the hare population becomes"
      ],
      "metadata": {
        "id": "mDERy8V2vHBw"
      }
    },
    {
      "cell_type": "markdown",
      "source": [
        "$\\frac{dH}{dt}=aH-bHL$"
      ],
      "metadata": {
        "id": "SeO4IEP9q9Qa"
      }
    },
    {
      "cell_type": "markdown",
      "source": [
        "If there is no food, the lynx population will decline at a rate proportional to itself,"
      ],
      "metadata": {
        "id": "mJ4dbrAgvLa8"
      }
    },
    {
      "cell_type": "markdown",
      "source": [
        "$\\frac{dL}{dt}=-cL$"
      ],
      "metadata": {
        "id": "OnvSInpXrSNF"
      }
    },
    {
      "cell_type": "markdown",
      "source": [
        "The lynx receive benefit from the hare population. The rate at which lynx are born is proportional to the number of hares that are eaten, and this is proportional to the rate at which the hares and lynx interact. Consequently, the growth rate of the lynx population can be described by"
      ],
      "metadata": {
        "id": "erwcbVmdvR2M"
      }
    },
    {
      "cell_type": "markdown",
      "source": [
        "$\\frac{dL}{dt}=-cL+dHL$"
      ],
      "metadata": {
        "id": "2ar-S0vcrfb7"
      }
    },
    {
      "cell_type": "markdown",
      "source": [
        "We now have a system of differential equations that describe how the two populations interact,"
      ],
      "metadata": {
        "id": "XnQwY8GcvZ4W"
      }
    },
    {
      "cell_type": "markdown",
      "source": [
        "$\\frac{dH}{dt}=aH-bHL$\n",
        "\n",
        "$\\frac{dL}{dt}=-cL+dHL$"
      ],
      "metadata": {
        "id": "iAFQTbkmrz3G"
      }
    },
    {
      "cell_type": "markdown",
      "source": [
        "We will learn how to analyze and find solutions of systems of differential equations in subsequent chapters; however, we will give a graphical solution in Figure 1.1.10 to the system"
      ],
      "metadata": {
        "id": "YBRYErdsvcBW"
      }
    },
    {
      "cell_type": "markdown",
      "source": [
        "$\\frac{dH}{dt}=0.4H-bHL$\n",
        "\n",
        "$\\frac{dL}{dt}=-0.3L+dHL$"
      ],
      "metadata": {
        "id": "O5j1DDNrsXCr"
      }
    },
    {
      "cell_type": "markdown",
      "source": [
        "The Predator-Prey relationship between the lynx and the snowshoe hare is below. Below is Figure 1.1.10"
      ],
      "metadata": {
        "id": "7omlxKZdt0QH"
      }
    },
    {
      "cell_type": "markdown",
      "source": [
        "![image.png](data:image/png;base64,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)"
      ],
      "metadata": {
        "id": "NkaD_GpftvHE"
      }
    }
  ]
}